{
  "nbformat": 4,
  "nbformat_minor": 0,
  "metadata": {
    "colab": {
      "provenance": [],
      "authorship_tag": "ABX9TyMw4N76ByjYmrE3cDgnluvr",
      "include_colab_link": true
    },
    "kernelspec": {
      "name": "python3",
      "display_name": "Python 3"
    },
    "language_info": {
      "name": "python"
    }
  },
  "cells": [
    {
      "cell_type": "markdown",
      "metadata": {
        "id": "view-in-github",
        "colab_type": "text"
      },
      "source": [
        "<a href=\"https://colab.research.google.com/github/mvharsh/Applied-Statistics-with-Python/blob/main/Methods_of_Variability.ipynb\" target=\"_parent\"><img src=\"https://colab.research.google.com/assets/colab-badge.svg\" alt=\"Open In Colab\"/></a>"
      ]
    },
    {
      "cell_type": "code",
      "execution_count": 1,
      "metadata": {
        "id": "qgzz4Vq05QQK"
      },
      "outputs": [],
      "source": [
        "import numpy as np\n",
        "import math\n",
        "\n",
        "arr = np.array([3450,3550,3650,3480,3355,3310,3490,3730,3540,3925,3520,3480])\n",
        "arr.sort()"
      ]
    },
    {
      "cell_type": "markdown",
      "source": [
        "**Range**"
      ],
      "metadata": {
        "id": "LOCvoMCh6OJc"
      }
    },
    {
      "cell_type": "code",
      "source": [
        "range = arr[len(arr)-1] - arr[0]\n",
        "print(range)"
      ],
      "metadata": {
        "colab": {
          "base_uri": "https://localhost:8080/"
        },
        "id": "KBFqbnDF6LrT",
        "outputId": "2b1d7526-7aee-4668-b4a1-100b5c3cc0b8"
      },
      "execution_count": 2,
      "outputs": [
        {
          "output_type": "stream",
          "name": "stdout",
          "text": [
            "615\n"
          ]
        }
      ]
    },
    {
      "cell_type": "markdown",
      "source": [
        "**Inter Quartile Range**"
      ],
      "metadata": {
        "id": "s1FYTxkf6S-4"
      }
    },
    {
      "cell_type": "code",
      "source": [
        "Q1 = np.quantile(arr,.25)\n",
        "Q3 = np.quantile(arr,.75)\n",
        "\n",
        "IQR = Q3 - Q1\n",
        "print(IQR)"
      ],
      "metadata": {
        "colab": {
          "base_uri": "https://localhost:8080/"
        },
        "id": "JNZ2FCnX6Wz4",
        "outputId": "e28eb1e1-7f05-45bd-d7c8-58423f88a403"
      },
      "execution_count": 3,
      "outputs": [
        {
          "output_type": "stream",
          "name": "stdout",
          "text": [
            "102.5\n"
          ]
        }
      ]
    },
    {
      "cell_type": "markdown",
      "source": [
        "**Variance**"
      ],
      "metadata": {
        "id": "VYY0XlYT6arC"
      }
    },
    {
      "cell_type": "code",
      "source": [
        "sum = arr.sum()\n",
        "mean = sum / len(arr)\n",
        "\n",
        "difference_squared = 0\n",
        "\n",
        "for i in arr:\n",
        "    difference_squared += (i - mean) ** 2\n",
        "\n",
        "variance = (difference_squared / (len(arr)) - 1)\n",
        "print(variance)"
      ],
      "metadata": {
        "colab": {
          "base_uri": "https://localhost:8080/"
        },
        "id": "KoOYAX8R6e-D",
        "outputId": "698b2922-6c06-46da-94d1-4e43f4dee9d7"
      },
      "execution_count": 4,
      "outputs": [
        {
          "output_type": "stream",
          "name": "stdout",
          "text": [
            "25153.166666666668\n"
          ]
        }
      ]
    },
    {
      "cell_type": "markdown",
      "source": [
        "**Standard Deviation**"
      ],
      "metadata": {
        "id": "oFBy7nyc6q4K"
      }
    },
    {
      "cell_type": "code",
      "source": [
        "SD = math.sqrt(variance)\n",
        "print(SD)"
      ],
      "metadata": {
        "colab": {
          "base_uri": "https://localhost:8080/"
        },
        "id": "TwLdSha96mVh",
        "outputId": "5377fbad-de60-4b19-db16-8b419ab2c243"
      },
      "execution_count": 5,
      "outputs": [
        {
          "output_type": "stream",
          "name": "stdout",
          "text": [
            "158.59749892941775\n"
          ]
        }
      ]
    },
    {
      "cell_type": "markdown",
      "source": [
        "**Coefficient of Variance**"
      ],
      "metadata": {
        "id": "1yJx9Awr6zXQ"
      }
    },
    {
      "cell_type": "code",
      "source": [
        "COV = (SD / mean) * 100\n",
        "print(COV)"
      ],
      "metadata": {
        "colab": {
          "base_uri": "https://localhost:8080/"
        },
        "id": "B43mkqGG65sS",
        "outputId": "4fc1feac-ff0a-4a01-a199-a6115f080805"
      },
      "execution_count": 6,
      "outputs": [
        {
          "output_type": "stream",
          "name": "stdout",
          "text": [
            "4.480155336989202\n"
          ]
        }
      ]
    },
    {
      "cell_type": "markdown",
      "source": [
        "**Z-score**"
      ],
      "metadata": {
        "id": "q2DPi2cL604G"
      }
    },
    {
      "cell_type": "code",
      "source": [
        "q = int(input(\"Enter the Index of the number, whose Z - Score is to be calculated : \"))\n",
        "z = (arr[q-1] - mean) / SD\n",
        "print(z)"
      ],
      "metadata": {
        "colab": {
          "base_uri": "https://localhost:8080/"
        },
        "id": "yFGy68Ad7Efx",
        "outputId": "c4474243-678d-4687-dfcd-38fedcee99d2"
      },
      "execution_count": 7,
      "outputs": [
        {
          "output_type": "stream",
          "name": "stdout",
          "text": [
            "Enter the Index of the number, whose Z - Score is to be calculated : 1\n",
            "-1.4502120244806587\n"
          ]
        }
      ]
    }
  ]
}
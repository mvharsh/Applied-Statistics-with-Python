{
  "nbformat": 4,
  "nbformat_minor": 0,
  "metadata": {
    "colab": {
      "provenance": [],
      "authorship_tag": "ABX9TyMAKe0krynuUjMGJGvJqVaG",
      "include_colab_link": true
    },
    "kernelspec": {
      "name": "python3",
      "display_name": "Python 3"
    },
    "language_info": {
      "name": "python"
    }
  },
  "cells": [
    {
      "cell_type": "markdown",
      "metadata": {
        "id": "view-in-github",
        "colab_type": "text"
      },
      "source": [
        "<a href=\"https://colab.research.google.com/github/mvharsh/Applied-Statistics-with-Python/blob/main/Mean_Median_Mode.ipynb\" target=\"_parent\"><img src=\"https://colab.research.google.com/assets/colab-badge.svg\" alt=\"Open In Colab\"/></a>"
      ]
    },
    {
      "cell_type": "markdown",
      "source": [
        "# **MEAN MEDIAN MODE**"
      ],
      "metadata": {
        "id": "M0kJdDDuYqjn"
      }
    },
    {
      "cell_type": "code",
      "source": [
        "import numpy as np\n",
        "\n",
        "# initializing array\n",
        "data = np.array([1,1,1,2,3,4,5])"
      ],
      "metadata": {
        "id": "AAOcqFjfYz0-"
      },
      "execution_count": null,
      "outputs": []
    },
    {
      "cell_type": "markdown",
      "source": [
        "**Mean**"
      ],
      "metadata": {
        "id": "wTRVneo6YwQg"
      }
    },
    {
      "cell_type": "code",
      "execution_count": null,
      "metadata": {
        "colab": {
          "base_uri": "https://localhost:8080/"
        },
        "id": "Y63ViHcoYkU-",
        "outputId": "e69f9a85-ac6d-41cc-fcff-d7831c3d74b8"
      },
      "outputs": [
        {
          "output_type": "stream",
          "name": "stdout",
          "text": [
            "Mean = 2.43\n"
          ]
        }
      ],
      "source": [
        "#mean\n",
        "sum = data.sum()\n",
        "mean = sum / len(data)\n",
        "print(\"Mean = {:.2f}\".format(mean))"
      ]
    },
    {
      "cell_type": "markdown",
      "source": [
        "**Median**"
      ],
      "metadata": {
        "id": "e22i_zr5Y954"
      }
    },
    {
      "cell_type": "code",
      "source": [
        "#median\n",
        "n = len(data)\n",
        "data.sort()\n",
        "if n % 2 == 0:\n",
        "    median1 = data[n//2]\n",
        "    median2 = data[n//2 - 1]\n",
        "    median = (median1 + median2)/2\n",
        "else:\n",
        "    median = data[n//2]\n",
        "print(\"Median = \", median)"
      ],
      "metadata": {
        "colab": {
          "base_uri": "https://localhost:8080/"
        },
        "id": "YsEeAHOwY_GX",
        "outputId": "35456e0d-33c4-40a2-d277-0464e8828eee"
      },
      "execution_count": null,
      "outputs": [
        {
          "output_type": "stream",
          "name": "stdout",
          "text": [
            "Median =  2\n"
          ]
        }
      ]
    },
    {
      "cell_type": "markdown",
      "source": [
        "**Mode**"
      ],
      "metadata": {
        "id": "yeTQcMOCY_mk"
      }
    },
    {
      "cell_type": "code",
      "source": [
        "#mode\n",
        "freq = {}\n",
        "for value in data:\n",
        "    freq[value] = freq.get(value, 0) + 1\n",
        "MostFreq = max(freq.values())\n",
        "mode = [key for key, value in freq.items() if value == MostFreq]\n",
        "print(\"Mode = \", mode[0])"
      ],
      "metadata": {
        "colab": {
          "base_uri": "https://localhost:8080/"
        },
        "id": "bGZkfbmRZEro",
        "outputId": "a653145b-5645-4912-9974-4746c07c822b"
      },
      "execution_count": null,
      "outputs": [
        {
          "output_type": "stream",
          "name": "stdout",
          "text": [
            "Mode =  1\n"
          ]
        }
      ]
    },
    {
      "cell_type": "code",
      "source": [
        "#Using inbuilt function\n",
        "\n",
        "import statistics\n",
        "import numpy as np\n",
        "\n",
        "data = np.array([1,1,1,2,3,4,5])\n",
        "\n",
        "print(\"Mean = \",statistics.mean(data))\n",
        "print(\"Median = \",statistics.median(data))\n",
        "print(\"Mean = \",statistics.mode(data))"
      ],
      "metadata": {
        "colab": {
          "base_uri": "https://localhost:8080/"
        },
        "id": "peqK9iZqrVli",
        "outputId": "5d8d458c-2439-46a4-a2bb-f4c4d5fd296a"
      },
      "execution_count": null,
      "outputs": [
        {
          "output_type": "stream",
          "name": "stdout",
          "text": [
            "Mean =  2\n",
            "Median =  2\n",
            "Mean =  1\n"
          ]
        }
      ]
    }
  ]
}
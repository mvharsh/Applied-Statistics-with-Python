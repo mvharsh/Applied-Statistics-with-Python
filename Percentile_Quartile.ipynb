{
  "nbformat": 4,
  "nbformat_minor": 0,
  "metadata": {
    "colab": {
      "provenance": [],
      "authorship_tag": "ABX9TyO+K+flPdsxZ/0S+6cod63o",
      "include_colab_link": true
    },
    "kernelspec": {
      "name": "python3",
      "display_name": "Python 3"
    },
    "language_info": {
      "name": "python"
    }
  },
  "cells": [
    {
      "cell_type": "markdown",
      "metadata": {
        "id": "view-in-github",
        "colab_type": "text"
      },
      "source": [
        "<a href=\"https://colab.research.google.com/github/mvharsh/Applied-Statistics-with-Python/blob/main/Percentile_Quartile.ipynb\" target=\"_parent\"><img src=\"https://colab.research.google.com/assets/colab-badge.svg\" alt=\"Open In Colab\"/></a>"
      ]
    },
    {
      "cell_type": "code",
      "execution_count": 1,
      "metadata": {
        "id": "7dh7xZhmq6Cf"
      },
      "outputs": [],
      "source": [
        "import numpy as np\n",
        "import math\n",
        "\n",
        "arr = [3450,3550,3650,3480,3355,3310,3490,3730,3540,3925,3520,3480]\n",
        "arr.sort()\n"
      ]
    },
    {
      "cell_type": "markdown",
      "source": [
        "**Percentile**"
      ],
      "metadata": {
        "id": "LEVNGP5c3nmE"
      }
    },
    {
      "cell_type": "code",
      "source": [
        "p = int(input(\"Enter the Percentile required : \"))\n",
        "i = (p / 100)* len(arr)\n",
        "\n",
        "if i.is_integer():\n",
        "    x = (arr[int(i-1)] + arr[int(i)]) / 2\n",
        "    print(\"Percentile = \", int(x))\n",
        "\n",
        "else:\n",
        "    x = math.ceil(i)\n",
        "    print(\"Percentile = \", arr[x-1])"
      ],
      "metadata": {
        "colab": {
          "base_uri": "https://localhost:8080/"
        },
        "id": "346Ube613skd",
        "outputId": "208fa768-c4f1-4ac7-a94a-7a56e990d484"
      },
      "execution_count": 2,
      "outputs": [
        {
          "output_type": "stream",
          "name": "stdout",
          "text": [
            "Enter the Percentile required : 85\n",
            "Percentile =  3730\n"
          ]
        }
      ]
    },
    {
      "cell_type": "markdown",
      "source": [
        "**Quartile**"
      ],
      "metadata": {
        "id": "XHsV8Mjl3uBm"
      }
    },
    {
      "cell_type": "code",
      "source": [
        "n = len (arr)\n",
        "\n",
        "Q1 = (25/100)*n\n",
        "Q2 = (50/100)*n\n",
        "Q3 = (75/100)*n\n",
        "\n",
        "\n",
        "if Q1.is_integer():\n",
        "    x = (arr[int(Q1-1)] + arr[int(Q1)]) / 2\n",
        "    print(\"The Quartile Q1 is : \", int(x))\n",
        "else:\n",
        "    x = math.ceil(Q1)\n",
        "    print(\"The Quartile Q1 is : \", arr[x-1] + 1)\n",
        "\n",
        "\n",
        "if Q2.is_integer():\n",
        "    z = (arr[int(Q2-1)] + arr[int(Q2)]) / 2\n",
        "    print(\"The Quartile Q2 is : \", int(z))\n",
        "else:\n",
        "    z = math.ceil(Q2)\n",
        "    print(\"The Quartile Q2 is : \", arr[z-1])\n",
        "\n",
        "\n",
        "if Q3.is_integer():\n",
        "    y = (arr[int(Q3-1)] + arr[int(Q3)]) / 2\n",
        "    print(\"The Quartile Q3 is : \",int(y))\n",
        "else:\n",
        "    y = math.ceil(Q3)\n",
        "    print(\"The Quartile Q3 is : \", arr[y-1])"
      ],
      "metadata": {
        "colab": {
          "base_uri": "https://localhost:8080/"
        },
        "id": "Vso90U8w3v3t",
        "outputId": "c2d00a3e-7337-4fda-ce30-7169df486bd2"
      },
      "execution_count": 3,
      "outputs": [
        {
          "output_type": "stream",
          "name": "stdout",
          "text": [
            "The Quartile Q1 is :  3465\n",
            "The Quartile Q2 is :  3505\n",
            "The Quartile Q3 is :  3600\n"
          ]
        }
      ]
    }
  ]
}